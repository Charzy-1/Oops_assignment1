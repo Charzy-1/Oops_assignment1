{
 "cells": [
  {
   "cell_type": "markdown",
   "id": "0c02b9b4-09e5-43ed-a6ba-6632368bc7d2",
   "metadata": {},
   "source": [
    "#### Problem 1: Bank Account Create a class representing a bank account with attributes like account number, account holder name, and balance. Implement methods to deposit and withdraw money from the account."
   ]
  },
  {
   "cell_type": "code",
   "execution_count": 7,
   "id": "946c4ed8-dfbf-45b6-90bd-c9cd8fdef354",
   "metadata": {},
   "outputs": [],
   "source": [
    "# create a class\n",
    "class Bank_acc:\n",
    "    \n",
    "    # create the init method\n",
    "    def __init__ (self, number, name, balance):\n",
    "        self.number = number\n",
    "        self.name = name\n",
    "        self.balance = balance\n",
    "        \n",
    "    def acc_number(self):\n",
    "        return self.number\n",
    "    \n",
    "    def acc_name (self):\n",
    "        return self.name\n",
    "    \n",
    "    def deposit (self):\n",
    "        deposit_amount = int(input('Please enter the amount you wish to deposit: $'))\n",
    "        depositor = input('Enter your name as depositor: ')\n",
    "        balance = self.balance + deposit_amount\n",
    "        print(f'You were credited by {depositor}')\n",
    "        print(f'Your balance is ${balance}')\n",
    "    \n",
    "    def withdrwal(self):\n",
    "        with_amount = int(input('How much do you wish to withdraw: '))\n",
    "        New_balance = self.balance - with_amount \n",
    "        if with_amount < self.balance:\n",
    "            print(f'Debit Alert: ${with_amount} was withdrawn from your account {self.number}')\n",
    "            print(f'Your new balance is ${New_balance}')\n",
    "        else:\n",
    "            return 'Insufficient balance'\n",
    "    "
   ]
  },
  {
   "cell_type": "code",
   "execution_count": 8,
   "id": "ecc0c6b6-c129-415f-bbc9-121b37af871d",
   "metadata": {},
   "outputs": [],
   "source": [
    "Zenith_bank = Bank_acc(22100979, 'Charles', 2000)\n",
    "Gtb = Bank_acc(1599875, 'Umar_m', 5000)"
   ]
  },
  {
   "cell_type": "code",
   "execution_count": 29,
   "id": "70420b71-772b-4d65-aee6-c1fba861e114",
   "metadata": {},
   "outputs": [
    {
     "name": "stdin",
     "output_type": "stream",
     "text": [
      "Please enter the amount you wish to deposit: $ 420\n",
      "Enter your name as depositor:  Chuks\n"
     ]
    },
    {
     "name": "stdout",
     "output_type": "stream",
     "text": [
      "You were credited by Chuks\n",
      "Your balance is $2420\n"
     ]
    }
   ],
   "source": [
    "Zenith_bank.deposit()"
   ]
  },
  {
   "cell_type": "code",
   "execution_count": 9,
   "id": "49c67568-8200-4ba3-bd43-bd6ac0420522",
   "metadata": {},
   "outputs": [
    {
     "name": "stdin",
     "output_type": "stream",
     "text": [
      "How much do you wish to withdraw:  780\n"
     ]
    },
    {
     "name": "stdout",
     "output_type": "stream",
     "text": [
      "Debit Alert: $780 was withdrawn from your account 22100979\n",
      "Your new balance is $1220\n"
     ]
    }
   ],
   "source": [
    "Zenith_bank.withdrwal()"
   ]
  },
  {
   "cell_type": "code",
   "execution_count": 10,
   "id": "9fc59680-7692-4336-8755-b263b7169bf6",
   "metadata": {},
   "outputs": [
    {
     "name": "stdin",
     "output_type": "stream",
     "text": [
      "How much do you wish to withdraw:  900\n"
     ]
    },
    {
     "name": "stdout",
     "output_type": "stream",
     "text": [
      "Debit Alert: $900 was withdrawn from your account 1599875\n",
      "Your new balance is $4100\n"
     ]
    }
   ],
   "source": [
    "Gtb.withdrwal()"
   ]
  },
  {
   "cell_type": "markdown",
   "id": "17023706-5ca1-4a8b-89a9-b70f9af37e95",
   "metadata": {},
   "source": [
    "#### Problem 2: Employee Management Create a class representing an employee with attributes like employee ID, name, and salary. Implement methods to calculate the yearly bonus and display employee details."
   ]
  },
  {
   "cell_type": "code",
   "execution_count": 51,
   "id": "86155d24-ea16-4e07-849c-539d590c1e95",
   "metadata": {},
   "outputs": [],
   "source": [
    "# class creation\n",
    "class employee:\n",
    "    \n",
    "    def __init__ (self, ID, name, salary):\n",
    "        self.ID = ID\n",
    "        self.name = name\n",
    "        self.salary = salary\n",
    "    \n",
    "     \n",
    "    def employee_bonus (self):\n",
    "        if self.salary >= 6000 and self.salary < 10000:\n",
    "            bonus = 10\n",
    "            yearly_bonus = (bonus/100) * self.salary\n",
    "            take_home = yearly_bonus + self.salary\n",
    "            return f'Employee: {self.name} \\nEmployee ID: {self.ID} \\nTake home is: {take_home}'\n",
    "        \n",
    "        elif self.salary >= 10000 and self.salary < 15000:\n",
    "            bonus = 20\n",
    "            yearly_bonus = (bonus/100) * self.salary\n",
    "            take_home = yearly_bonus + self.salary\n",
    "            return f'Employee: {self.name} \\nEmployee ID: {self.ID} \\nTake home is: {take_home}'\n",
    "                   \n",
    "        elif self.salary >= 15000 and self.salary < 25000:\n",
    "            bonus = 25\n",
    "            yearly_bonus = (bonus/100) * self.salary\n",
    "            take_home = yearly_bonus + self.salary\n",
    "            return f'Employee: {self.name} \\nEmployee ID: {self.ID} \\nTake home is: {take_home}'\n",
    "        \n",
    "        elif self.salary >= 25000:\n",
    "              return 'The company cannot afford to add to his pay'\n",
    "            \n",
    "        else:\n",
    "            return 'The employee is not eligible for bonus'\n",
    "            \n",
    "            "
   ]
  },
  {
   "cell_type": "code",
   "execution_count": 52,
   "id": "52e009ff-0f0b-49da-b023-793dbebbe16b",
   "metadata": {},
   "outputs": [
    {
     "name": "stdout",
     "output_type": "stream",
     "text": [
      "Employee: Jude \n",
      "Employee ID: 1005 \n",
      "Take home is: 7150.0\n"
     ]
    }
   ],
   "source": [
    "employee_record = employee(1005, 'Jude', 6500)        \n",
    "print(employee_record.employee_bonus())"
   ]
  },
  {
   "cell_type": "markdown",
   "id": "b8bfd7d6-e84d-431d-8e29-89e1203a7b4b",
   "metadata": {},
   "source": [
    "#### Problem 3: Vehicle Rental Create a class representing a vehicle rental system. Implement methods to rent a vehicle, return a vehicle, and display available vehicles."
   ]
  },
  {
   "cell_type": "code",
   "execution_count": 57,
   "id": "be14a739-9205-4f03-9c2b-626de0aecbdd",
   "metadata": {},
   "outputs": [],
   "source": []
  },
  {
   "cell_type": "code",
   "execution_count": 58,
   "id": "59e72a6e-0c8c-476d-abf7-52c341c39873",
   "metadata": {},
   "outputs": [
    {
     "name": "stdin",
     "output_type": "stream",
     "text": [
      "How many cars do you wish to rent:  12\n"
     ]
    },
    {
     "name": "stdout",
     "output_type": "stream",
     "text": [
      "Rented by Afam \n",
      "Balance is: 88 cars\n"
     ]
    }
   ],
   "source": [
    "Car_stock = car_rent('Afam', 100)\n",
    "print(Car_stock.rent())"
   ]
  },
  {
   "cell_type": "code",
   "execution_count": 59,
   "id": "b4ed4a49-1783-4de5-898d-807601523e11",
   "metadata": {},
   "outputs": [
    {
     "name": "stdin",
     "output_type": "stream",
     "text": [
      "How many cars was returned:  5\n"
     ]
    },
    {
     "name": "stdout",
     "output_type": "stream",
     "text": [
      "Returned by Afam \n",
      "Balance is: 93 cars\n"
     ]
    }
   ],
   "source": [
    "print(Car_stock.return_car())"
   ]
  },
  {
   "cell_type": "code",
   "execution_count": 60,
   "id": "3799f094-58b1-4495-a461-37c6c991bf66",
   "metadata": {},
   "outputs": [
    {
     "name": "stdin",
     "output_type": "stream",
     "text": [
      "How many cars do you wish to rent:  2\n"
     ]
    },
    {
     "name": "stdout",
     "output_type": "stream",
     "text": [
      "Rented by Afam \n",
      "Balance is: 91 cars\n"
     ]
    }
   ],
   "source": [
    "print(Car_stock.rent())"
   ]
  },
  {
   "cell_type": "markdown",
   "id": "418c3b8f-8cc7-4b17-864c-5b99e1064fda",
   "metadata": {},
   "source": [
    "#### Problem 4: Library Catalog Create classes representing a library and a book. Implement methods to add books to the library, borrow books, and display available books."
   ]
  },
  {
   "cell_type": "code",
   "execution_count": 5,
   "id": "461cb326-99a6-4357-8f77-13f86d13c491",
   "metadata": {},
   "outputs": [],
   "source": [
    "class library:\n",
    "    \n",
    "    def __init__ (self, title, author):\n",
    "        self.title = title\n",
    "        self.author = author\n",
    "        self.total = 100\n",
    "        \n",
    "    def add_book(self):\n",
    "        purchase_books = int(input('Enter the number of new books purchased: '))\n",
    "        self.total += purchase_books\n",
    "        return f'We have {self.total} books available in stock'\n",
    "    \n",
    "    def borrows(self):\n",
    "        borrowed_books = int(input('Enter the number of books borrowed: '))\n",
    "        self.total -= borrowed_books\n",
    "        return f'We have {self.total} books available after you have borrowed'\n",
    "        "
   ]
  },
  {
   "cell_type": "code",
   "execution_count": 8,
   "id": "2434adf5-c07c-429c-84b8-33dd95b345cd",
   "metadata": {},
   "outputs": [
    {
     "name": "stdin",
     "output_type": "stream",
     "text": [
      "Enter the number of books borrowed:  5\n"
     ]
    },
    {
     "name": "stdout",
     "output_type": "stream",
     "text": [
      "We have 95 books available after you have borrowed\n"
     ]
    }
   ],
   "source": [
    "My_library = library('Rich Charles', 'Chazylites' )\n",
    "print(My_library.borrows())"
   ]
  },
  {
   "cell_type": "code",
   "execution_count": 9,
   "id": "543cf346-ba2d-4222-9468-90e711dbc6bd",
   "metadata": {},
   "outputs": [
    {
     "name": "stdin",
     "output_type": "stream",
     "text": [
      "Enter the number of new books purchased:  2\n"
     ]
    },
    {
     "name": "stdout",
     "output_type": "stream",
     "text": [
      "We have 102 books available in stock\n"
     ]
    }
   ],
   "source": [
    "My_library = library('Rich Charles', 'Chazylites' )\n",
    "print(My_library.add_book())"
   ]
  },
  {
   "cell_type": "markdown",
   "id": "0f24d633-5d6d-4ffc-93d8-3f7eccdbd945",
   "metadata": {},
   "source": [
    "#### Problem 5: Product Inventory Create classes representing a product and an inventory system. Implement methods to add products to the inventory, update product quantity, and display available products.\n"
   ]
  },
  {
   "cell_type": "code",
   "execution_count": 19,
   "id": "b33fff0f-55a0-40c1-80cc-1e9df1e25c37",
   "metadata": {},
   "outputs": [
    {
     "name": "stdout",
     "output_type": "stream",
     "text": [
      "Available Products:\n",
      "Product ID: 1, Name: Laptop, Price: $999.99, Quantity: 10\n",
      "Product ID: 2, Name: Smartphone, Price: $399.99, Quantity: 20\n",
      "Product ID: 3, Name: Headphones, Price: $49.99, Quantity: 50\n",
      "Available Products:\n",
      "Product ID: 1, Name: Laptop, Price: $999.99, Quantity: 10\n",
      "Product ID: 2, Name: Smartphone, Price: $399.99, Quantity: 15\n",
      "Product ID: 3, Name: Headphones, Price: $49.99, Quantity: 50\n"
     ]
    }
   ],
   "source": [
    "class Product:\n",
    "    def __init__(self, product_id, name, price, quantity):\n",
    "        self.product_id = product_id\n",
    "        self.name = name\n",
    "        self.price = price\n",
    "        self.quantity = quantity\n",
    "\n",
    "    def __str__(self):\n",
    "        return f\"Product ID: {self.product_id}, Name: {self.name}, Price: ${self.price}, Quantity: {self.quantity}\"\n",
    "\n",
    "class Inventory:\n",
    "    def __init__(self):\n",
    "        self.products = []\n",
    "\n",
    "    def add_product(self, product):\n",
    "        self.products.append(product)\n",
    "\n",
    "    def update_quantity(self, product_id, new_quantity):\n",
    "        for product in self.products:\n",
    "            if product.product_id == product_id:\n",
    "                product.quantity = new_quantity\n",
    "                break\n",
    "        else:\n",
    "            print(f\"Product with ID {product_id} not found in inventory.\")\n",
    "\n",
    "    def display_products(self):\n",
    "        if not self.products:\n",
    "            print(\"Inventory is empty.\")\n",
    "        else:\n",
    "            print(\"Available Products:\")\n",
    "            for product in self.products:\n",
    "                print(product)\n",
    "\n",
    "# Create some products\n",
    "product1 = Product(1, \"Laptop\", 999.99, 10)\n",
    "product2 = Product(2, \"Smartphone\", 399.99, 20)\n",
    "product3 = Product(3, \"Headphones\", 49.99, 50)\n",
    "\n",
    "# Create an inventory and add products\n",
    "inventory = Inventory()\n",
    "inventory.add_product(product1)\n",
    "inventory.add_product(product2)\n",
    "inventory.add_product(product3)\n",
    "\n",
    "# Display available products\n",
    "inventory.display_products()\n",
    "\n",
    "# Update quantity of a product\n",
    "inventory.update_quantity(2, 15)\n",
    "\n",
    "# Display products after updating quantity\n",
    "inventory.display_products()\n"
   ]
  },
  {
   "cell_type": "markdown",
   "id": "13b3f215-26cf-4c50-b510-61e319bfaa39",
   "metadata": {},
   "source": [
    "#### Problem 6: Shape Calculation Create a class representing a shape with attributes like length, width, and height. Implement methods to calculate the area and perimeter of the shape."
   ]
  },
  {
   "cell_type": "code",
   "execution_count": 27,
   "id": "b2cf6d06-352f-440c-aa65-6a26ce70f67a",
   "metadata": {},
   "outputs": [],
   "source": [
    "class shapes:\n",
    "    \n",
    "    def __init__ (self, length, width, height):\n",
    "        self.length = length\n",
    "        self.width = width\n",
    "        self.height = height\n",
    "        \n",
    "    def area_calc(self):\n",
    "        area = 1/2 * self.width * self.length\n",
    "        return f'The area of the shape is {area}'\n",
    "    \n",
    "    def perimeter_calc(self):\n",
    "        perimeter = self.length + self.width + self.height\n",
    "        return f'The perimeter of the shape is {perimeter}'\n",
    "        "
   ]
  },
  {
   "cell_type": "code",
   "execution_count": 30,
   "id": "e97042a7-8109-4909-b3e1-df64a5f42e88",
   "metadata": {},
   "outputs": [
    {
     "data": {
      "text/plain": [
       "'The perimeter of the shape is 13'"
      ]
     },
     "execution_count": 30,
     "metadata": {},
     "output_type": "execute_result"
    }
   ],
   "source": [
    "calculate = shapes(6,3,4)\n",
    "calculate.perimeter_calc()"
   ]
  },
  {
   "cell_type": "markdown",
   "id": "1a5e5205-b685-410c-8c5a-8b7277caecfa",
   "metadata": {},
   "source": [
    "#### Problem 7: Student Management Create a class representing a student with attributes like student ID, name, and grades. Implement methods to calculate the average grade and display student details."
   ]
  },
  {
   "cell_type": "code",
   "execution_count": 79,
   "id": "684efccc-69cc-483b-9e47-f707d35d87ff",
   "metadata": {},
   "outputs": [
    {
     "name": "stdout",
     "output_type": "stream",
     "text": [
      "The average mark of the first student is 86.33333333333333\n",
      "Student ID: 1, Name: Ikem Paul, Grades: [95, 88, 76]\n",
      "Student ID: 2, Name: Charles Adiks, Grades: [45, 85, 81, 56]\n"
     ]
    }
   ],
   "source": [
    "class Students:\n",
    "    def __init__(self, student_id, name, grades):\n",
    "        self.student_id = student_id\n",
    "        self.name = name\n",
    "        self.grades = grades\n",
    "    \n",
    "    def grade(self):\n",
    "        return self.grades\n",
    "    \n",
    "    def __str__(self):\n",
    "        return f'Student ID: {self.student_id}, Name: {self.name}, Grades: {self.grades}'\n",
    "    \n",
    "    def avg_grade(self):\n",
    "        return sum(student.grade())/len(student.grades)\n",
    "        \n",
    "\n",
    "student1 = Students(1, \"Ikem Paul\", [95, 88, 76])\n",
    "student2 = Students(2, \"Charles Adiks\", [45, 85, 81, 56])\n",
    "\n",
    "print(f'The average mark of the first student is {student.avg_grade()}')\n",
    "print(student1)\n",
    "print(student2)\n",
    "\n"
   ]
  },
  {
   "cell_type": "markdown",
   "id": "c56c7c1b-539e-4cad-b5ee-f2572dd46188",
   "metadata": {},
   "source": [
    "#### Problem 8: Email Management Create a class representing an email with attributes like sender, recipient, and subject. Implement methods to send an email and display email details.\n"
   ]
  },
  {
   "cell_type": "code",
   "execution_count": 84,
   "id": "061c686f-5517-4e01-9c86-d6525faaef41",
   "metadata": {},
   "outputs": [
    {
     "name": "stdout",
     "output_type": "stream",
     "text": [
      "Email sent from charlesadiks@yahoo.com \n",
      "to \n",
      "chazylites@gmail.com\n",
      "Email Details:\n",
      "From: charlesadiks@yahoo.com\n",
      "Sender: chazylites@gmail.com\n",
      "Subject: P.hD inquiry\n"
     ]
    },
    {
     "data": {
      "text/plain": [
       "'Hello, i beleive this message meets you well'"
      ]
     },
     "execution_count": 84,
     "metadata": {},
     "output_type": "execute_result"
    }
   ],
   "source": [
    "class Email:\n",
    "    def __init__(self, sender, recipient, subject):\n",
    "        self.sender = sender\n",
    "        self.recipient = recipient\n",
    "        self.subject = subject\n",
    "        self.message = None\n",
    "\n",
    "    def send_email(self, message):\n",
    "        if not self.message:  # Check if an email message has already been set\n",
    "            self.message = message\n",
    "            print(f\"Email sent from {self.sender} \\nto \\n{self.recipient}\")\n",
    "        else:\n",
    "            print(\"Email message has already been set. Cannot send again.\")\n",
    "\n",
    "    def display_email(self):\n",
    "        print(\"Email Details:\")\n",
    "        print(f'From: {self.sender}')\n",
    "        print(f'Sender: {self.recipient}')\n",
    "        print(f'Subject: {self.subject}')\n",
    "        return self.message\n",
    "        \n",
    "mail = Email(\"charlesadiks@yahoo.com\", \"chazylites@gmail.com\", \"P.hD inquiry\")\n",
    "\n",
    "# Set the email message and send it\n",
    "mail.send_email('Hello, i beleive this message meets you well')\n",
    "\n",
    "# Display email details\n",
    "mail.display_email()"
   ]
  },
  {
   "cell_type": "markdown",
   "id": "152b62d9-a857-4ebe-8388-65b42d4df25a",
   "metadata": {},
   "source": [
    "#### Problem 9: Social Media Profile Create a class representing a social media profile with attributes like username and posts. Implement methods to add posts, display posts, and search for posts by keyword."
   ]
  },
  {
   "cell_type": "code",
   "execution_count": null,
   "id": "b11caa02-ac82-4d21-bccc-565b064c2a18",
   "metadata": {},
   "outputs": [],
   "source": [
    "class media_profile:\n",
    "    \n",
    "    # create the constructor\n",
    "    def __init__ (self, username, post):\n",
    "        self.username = username\n",
    "        self.posts = []\n",
    "        \n",
    "    def add_post(self):\n",
    "        self.posts.append(self.posts)\n",
    "    \n",
    "    def display_post(self):\n",
    "        return self.posts\n",
    "    \n",
    "    def search_post(self):\n",
    "        if 'love' in self.posts:\n",
    "            return self.posts\n",
    "        else:\n",
    "            return 'no related post with such keyword'"
   ]
  },
  {
   "cell_type": "markdown",
   "id": "883e284f-3156-4709-b6e3-668529241a79",
   "metadata": {},
   "source": [
    "#### Problem 10: ToDo List Create a class representing a ToDo list with attributes like tasks and due dates. Implement methods to add tasks, mark tasks as completed, and display pending tasks."
   ]
  },
  {
   "cell_type": "code",
   "execution_count": 86,
   "id": "4fd770db-df35-41c9-84b2-8eb9c7c4143e",
   "metadata": {},
   "outputs": [
    {
     "name": "stdout",
     "output_type": "stream",
     "text": [
      "Pending Tasks:\n",
      "1. Task: Finish report | Due Date: 2023-09-25\n",
      "2. Task: Call John | Due Date: 2023-09-22\n"
     ]
    }
   ],
   "source": [
    "class ToDoList:\n",
    "    def __init__(self):\n",
    "        self.tasks = []\n",
    "\n",
    "    def add_task(self, task, due_date):\n",
    "        self.tasks.append({\"task\": task, \"due_date\": due_date, \"completed\": False})\n",
    "\n",
    "    def mark_task_as_completed(self, task_index):\n",
    "        if 0 <= task_index < len(self.tasks):\n",
    "            self.tasks[task_index][\"completed\"] = True\n",
    "\n",
    "    def display_pending_tasks(self):\n",
    "        pending_tasks = [task for task in self.tasks if not task[\"completed\"]]\n",
    "        if not pending_tasks:\n",
    "            print(\"No pending tasks.\")\n",
    "        else:\n",
    "            print(\"Pending Tasks:\")\n",
    "            for i, task in enumerate(pending_tasks, 1):\n",
    "                print(f\"{i}. Task: {task['task']} | Due Date: {task['due_date']}\")\n",
    "\n",
    "# Example usage:\n",
    "to_do_list = ToDoList()\n",
    "\n",
    "# Add tasks to the list\n",
    "to_do_list.add_task(\"Buy groceries\", \"2023-09-20\")\n",
    "to_do_list.add_task(\"Finish report\", \"2023-09-25\")\n",
    "to_do_list.add_task(\"Call John\", \"2023-09-22\")\n",
    "\n",
    "# Mark a task as completed\n",
    "to_do_list.mark_task_as_completed(0)\n",
    "\n",
    "# Display pending tasks\n",
    "to_do_list.display_pending_tasks()\n"
   ]
  },
  {
   "cell_type": "code",
   "execution_count": null,
   "id": "abf72385-d59e-41bb-917b-0f3340b0c90c",
   "metadata": {},
   "outputs": [],
   "source": []
  }
 ],
 "metadata": {
  "kernelspec": {
   "display_name": "Python 3 (ipykernel)",
   "language": "python",
   "name": "python3"
  },
  "language_info": {
   "codemirror_mode": {
    "name": "ipython",
    "version": 3
   },
   "file_extension": ".py",
   "mimetype": "text/x-python",
   "name": "python",
   "nbconvert_exporter": "python",
   "pygments_lexer": "ipython3",
   "version": "3.10.8"
  }
 },
 "nbformat": 4,
 "nbformat_minor": 5
}
